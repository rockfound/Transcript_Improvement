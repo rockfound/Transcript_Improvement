{
 "cells": [
  {
   "cell_type": "markdown",
   "metadata": {},
   "source": [
    "Each of the main funtions in rfti can be called independenlty.  For particularly long transcripts this can be useful as it can be used to apply each stage of the improvement individually.  "
   ]
  },
  {
   "cell_type": "code",
   "execution_count": null,
   "metadata": {},
   "outputs": [],
   "source": [
    "import pandas as pd\n",
    "from rfti import generate_new_transcript\n",
    "from rfti import generate_frames\n",
    "from rfti import detect_faces\n",
    "from rfti import compare_faces\n",
    "from rfti import make_directory\n",
    "import rfti\n",
    "from pathlib import Path"
   ]
  },
  {
   "cell_type": "code",
   "execution_count": null,
   "metadata": {},
   "outputs": [],
   "source": [
    "# Update the variables below\n",
    "transcript_path_in =  # path to transcript\n",
    "video_path_in =  # path to video file\n",
    "output_filename_in = # name of output file"
   ]
  },
  {
   "cell_type": "code",
   "execution_count": null,
   "metadata": {},
   "outputs": [],
   "source": [
    "transcript_path = Path(transcript_path_in)\n",
    "base_path = Path.cwd() / transcript_path.stem\n",
    "\n",
    "video_path = Path(video_path_in)\n",
    "output_path = base_path / output_filename_in\n",
    "images_path = base_path / \"images\"\n",
    "rfti.make_directory(base_path)"
   ]
  },
  {
   "cell_type": "code",
   "execution_count": null,
   "metadata": {},
   "outputs": [],
   "source": [
    "# read in the original transcript \n",
    "ut_df = pd.read_csv(transcript_path)"
   ]
  },
  {
   "cell_type": "code",
   "execution_count": null,
   "metadata": {},
   "outputs": [],
   "source": [
    "# retrieve a frame for each utterance and save it in {images_path}\n",
    "ut_df = generate_frames(ut_df, images_path, video_path)\n",
    "ut_df.to_pickle(base_path/ 'after_frame_generation.pkl')"
   ]
  },
  {
   "cell_type": "code",
   "execution_count": null,
   "metadata": {},
   "outputs": [],
   "source": [
    "# read in the output from frame generation and detect faces \n",
    "ut_df = pd.read_pickle(base_path/ 'after_frame_generation.pkl')\n",
    "ut_df = detect_faces(ut_df, images_path, base_path)\n",
    "ut_df.to_pickle(base_path/ 'after_face_detection.pkl')"
   ]
  },
  {
   "cell_type": "code",
   "execution_count": null,
   "metadata": {},
   "outputs": [],
   "source": [
    "# read in the output from face detection and compare faces \n",
    "ut_df = pd.read_pickle(base_path/ 'after_face_detection.pkl')\n",
    "ut_df = compare_faces(ut_df, images_path, base_path)\n",
    "ut_df.to_pickle(base_path/ 'after_face_comparison.pkl')"
   ]
  },
  {
   "cell_type": "markdown",
   "metadata": {},
   "source": [
    "At this time you can check to make sure all the speakers in the {base_path}/verification_images directories are correctly identified.  \n",
    "You can move any speaker to the appropriate directory.  \n",
    "Any speakers that cannot be identified go in {base_path}/verification_images/speaker_-1.  \n",
    "Please make sure that each image appears in exactly one speaker directoy.  \n",
    "You can add speakers by creating a directory called 'speaker_n' for some integer n not already used in {base_path}/verification_images.  "
   ]
  },
  {
   "cell_type": "code",
   "execution_count": null,
   "metadata": {},
   "outputs": [],
   "source": [
    "# read in the output from face detection and compare faces\n",
    "verification_images_path = base_path / \"verification_images\"\n",
    "ut_df = pd.read_pickle(base_path/ 'after_face_comparison.pkl')\n",
    "ut_df, new_ut_df = generate_new_transcript(ut_df, verification_images_path)\n",
    "ut_df.to_pickle(base_path/ 'after_transcript_generation.pkl')"
   ]
  },
  {
   "cell_type": "code",
   "execution_count": null,
   "metadata": {},
   "outputs": [],
   "source": [
    "new_ut_df.to_csv(str(output_path))"
   ]
  },
  {
   "cell_type": "code",
   "execution_count": null,
   "metadata": {},
   "outputs": [],
   "source": [
    "new_ut_df"
   ]
  }
 ],
 "metadata": {
  "interpreter": {
   "hash": "f4bcdee904c7d3197430d0d522cde9bb72e95a5c738d72c24d50ff2dcaac6080"
  },
  "kernelspec": {
   "display_name": "Python 3.11.8 ('py311')",
   "language": "python",
   "name": "python3"
  },
  "language_info": {
   "codemirror_mode": {
    "name": "ipython",
    "version": 3
   },
   "file_extension": ".py",
   "mimetype": "text/x-python",
   "name": "python",
   "nbconvert_exporter": "python",
   "pygments_lexer": "ipython3",
   "version": "3.9.12"
  },
  "orig_nbformat": 4
 },
 "nbformat": 4,
 "nbformat_minor": 2
}
